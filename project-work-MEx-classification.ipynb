{
 "cells": [
  {
   "cell_type": "markdown",
   "metadata": {
    "nbgrader": {
     "grade": false,
     "grade_id": "cell-708d46d3f9180abe",
     "locked": true,
     "schema_version": 3,
     "solution": false
    }
   },
   "source": [
    "# Multimodal Data Fusion - Project Work: Multi-Modal Physical Exercise Classification\n",
    "\n",
    "\n",
    "In this project, real multi-modal data is studied by utilizing different techniques presented during the course. In addition, there is an optional task to try some different approaches to identify persons from the same dataset. Open MEx dataset from UCI machine learning repository is used. Idea is to apply different techniques to recognize physical exercises from wearable sensors and depth camera, user-independently."
   ]
  },
  {
   "cell_type": "markdown",
   "metadata": {},
   "source": [
    "## Author(s)\n",
    "Add your information here\n",
    "\n",
    "Name:\n",
    "\n",
    "Student number:"
   ]
  },
  {
   "cell_type": "markdown",
   "metadata": {
    "nbgrader": {
     "grade": false,
     "grade_id": "cell-32738734cf6f1a4f",
     "locked": true,
     "schema_version": 3,
     "solution": false
    }
   },
   "source": [
    "## Description \n",
    "\n",
    "The goal of this project is to develop user-independent pre-processing and classification models to recognize 7 different physical exercises measured by accelerometer (attached to subject's thigh) and depth camera (above the subject facing downwards recording an aerial view). All the exercises were performed subject lying down on the mat. Original dataset have also another acceleration sensor and pressure-sensitive mat, but those two modalities are ommited in this project. There are totally 30 subjects in the original dataset, and in this work subset of 10 person is utilized. Detailed description of the dataset and original data can be access in [MEx dataset @ UCI machine learning repository](https://archive.ics.uci.edu/ml/datasets/MEx#). We are providing the subset of dataset in Moodle.\n",
    "\n",
    "The project work is divided on following phases:\n",
    "\n",
    "1. Data preparation, exploration, and visualization\n",
    "2. Feature extraction and unimodal fusion for classification\n",
    "3. Feature extraction and feature-level fusion for multimodal classification\n",
    "4. Decision-level fusion for multimodal classification\n",
    "5. Bonus task: Multimodal biometric identification of persons\n",
    "\n",
    "where 1-4 are compulsory (max. 10 points each), and 5 is optional to get bonus points (max. 5+5 points). In each phase, you should visualize and analyse the results and document the work and findings properly by text blocks and figures between the code. <b> Nice looking </b> and <b> informative </b> notebook representing your results and analysis will be part of the grading in addition to actual implementation.\n",
    "\n",
    "The results are validated using confusion matrices and F1 scores. F1 macro score is given as \n",
    "<br>\n",
    "<br>\n",
    "$\n",
    "\\begin{equation}\n",
    "F1_{macro} = \\frac{1}{N} \\sum_i^N F1_i,\n",
    "\\end{equation}\n",
    "$\n",
    "<br>\n",
    "<br>\n",
    "where $F1_i = 2  \\frac{precision_i * recall_i}{precision_i + recall_i}$, and $N$ is the number of classes.\n",
    "<br>\n",
    "\n",
    "## Learning goals \n",
    "\n",
    "After the project work, you should  \n",
    "\n",
    "- be able to study real world multi-modal data\n",
    "- be able to apply different data fusion techniques to real-world problem\n",
    "- be able to evaluate the results\n",
    "- be able to analyse the outcome\n",
    "- be able to document your work properly\n",
    "\n",
    "## Relevant lectures\n",
    "\n",
    "Lectures 1-8\n",
    "\n",
    "## Relevant exercises\n",
    "\n",
    "Exercises 0-6\n",
    "\n",
    "## Relevant chapters in course book\n",
    "\n",
    "Chapter 1-14\n",
    "\n",
    "## Additional Material \n",
    "\n",
    "* Original dataset [MEx dataset @ UCI machine learning repository](https://archive.ics.uci.edu/ml/datasets/MEx#)\n",
    "* Related scientific article [MEx: Multi-modal Exercises Dataset for Human Activity Recognition](https://arxiv.org/pdf/1908.08992.pdf)"
   ]
  },
  {
   "cell_type": "markdown",
   "metadata": {
    "nbgrader": {
     "grade": false,
     "grade_id": "cell-7e096db2d9e8c24e",
     "locked": true,
     "schema_version": 3,
     "solution": false
    }
   },
   "source": [
    "# 1. Data preparation, exploration, and visualization"
   ]
  },
  {
   "cell_type": "markdown",
   "metadata": {},
   "source": [
    "<a id='task1'></a>\n",
    "<div class=\" alert alert-warning\">\n",
    "    <b>Assigment.</b> <b>Task 1.</b>\n",
    "\n",
    "Download data from the Moodle's Project section. Get yourself familiar with the folder structure and data. You can read the data files using the function given below. Each file consists one exercise type performed by single user. Data are divided on multiple folders. Note that, in each folder there is one long sequence of single exercise, except exercise 4 which is performed two times in different ways. Those two sequences belongs to same class. Do the following subtasks to pre-analyse data examples and to prepare the training and testing data for next tasks:\n",
    "<br>\n",
    "<br> \n",
    "<p> <b>1.1</b> Read raw data from the files. Prepare and divide each data file to shorter sequences using windowing method. Similar to related article \"MEx: Multi-modal Exercises Dataset for Human Activity Recognition\", use 5 second window and 3 second overlapping between windows, producing several example sequences from one exercise file for classification purposes. Windowing is working so that starting from the beginning of each long exercise sequence, take 5 seconds of data points (from synchronized acceleration data and depth images) based on the time stamps. Next, move the window 2 seconds forward and take another 5 seconds of data. Then continue this until your are at the end of sequence. Each window will consists 500x3 matrix of acceleration data and 5x192 matrix of depth image data.</p>\n",
    "<br>  \n",
    "<p> <b>1.2</b> Plot few examples of prepared data for each modalities (accelometer and depth camera). Plot acceleration sensor as multi-dimensional time-series and depth camera data as 2D image. Plot 5 second acceleration sensor and depth image sequences of person 1 and 5 performing exercises 2, 5, and 6. Take the first windowed example from the long exercise sequence. </p>\n",
    "<br>\n",
    "<p> <b>1.3</b> Split the prepared dataset to training and testing datasets so that data of persons 1-7 are used for training and data of persons 8-10 are used for testing. In next tasks, training dataset could be further divided on (multiple) validation data folds to tune the models parameters, when needed.<br>\n",
    "<br> \n",
    "Document your work, calculate the indicator statistics of training and testing datasets (number of examples, dimensions of each example) and visualize prepared examples.\n",
    "\n",
    "</div>"
   ]
  },
  {
   "cell_type": "code",
   "execution_count": 1,
   "metadata": {},
   "outputs": [
    {
     "name": "stdout",
     "output_type": "stream",
     "text": [
      "(2, 10, 8)\n"
     ]
    }
   ],
   "source": [
    "import numpy as np\n",
    "import pandas as pd\n",
    "from os import listdir,getcwd\n",
    "    \n",
    "#Reads data from the folders\n",
    "\n",
    "def read_data_from_folders(folder_name, ID, outputform):\n",
    "    output = np.empty(outputform, dtype=object)\n",
    "    \n",
    "    for n in range(len(ID)):\n",
    "        #check files in folder.\n",
    "        currentDir = getcwd()\n",
    "        filepath = \"%s/%s/%02d\" %(currentDir, \"MEx/\" + folder_name, ID[n])\n",
    "        files = sorted(listdir(filepath))\n",
    "        count = 0\n",
    "        \n",
    "        for f in files:\n",
    "            file = filepath + \"/\" + f\n",
    "            data = pd.read_csv(file, delimiter=',', header=None)\n",
    "            output[n,count] = data \n",
    "            count += 1\n",
    "            \n",
    "    return output\n",
    "\n",
    "folders = ['act', 'dc_0.05_0.05']\n",
    "\n",
    "allData = np.empty((2,10,8),dtype=object)\n",
    "num = 0\n",
    "ids = np.arange(1,11)\n",
    "\n",
    "for idx,fol in enumerate(folders):\n",
    "    allData[idx,:,:]=read_data_from_folders(fol, ids, (10,8))\n",
    "print(allData.shape)"
   ]
  },
  {
   "cell_type": "code",
   "execution_count": null,
   "metadata": {},
   "outputs": [],
   "source": []
  },
  {
   "cell_type": "code",
   "execution_count": 2,
   "metadata": {},
   "outputs": [
    {
     "name": "stdout",
     "output_type": "stream",
     "text": [
      "Done\n",
      "1 6 8\n",
      "He (6306, 4) step_size: 10 size (30, 500, 3) Last timestamp 63050.0\n",
      "Done\n",
      "1 6 8\n",
      "He (63, 193) step_size: 1000 size (29, 5, 192) Last timestamp 62000.0\n",
      "Problem at  1 6\n",
      "(30, 500, 3)\n"
     ]
    }
   ],
   "source": [
    "import math\n",
    "def window_split_file(data,miliseconds=5000):\n",
    "    step_size=int(data.iloc[1,0]-data.iloc[0,0])\n",
    "#     print(\"The last timestamp\",data.iloc[-1,0])\n",
    "#     print(\"Step size\",step_size)\n",
    "    nr_points=int(miliseconds/step_size)\n",
    "    new_data=[]\n",
    "   \n",
    "    \n",
    "    stop_time=int(data.iloc[-1,0]-miliseconds)#get last one\n",
    "#     print(\"Stop time\",stop_time/2000)\n",
    "    out=np.empty((int(stop_time/2000)+1,int(miliseconds/step_size),data.shape[1]-1))\n",
    "#     print(\"Out\",out.shape)\n",
    "    count=0\n",
    "#     print(\"Size:\",int(stop_time/2000)+1)\n",
    "    for start_time in range(0,stop_time,2000):\n",
    "        start_index=int(start_time/step_size)\n",
    "        stop_index=start_index+nr_points\n",
    "#         print(\"Start\",start_index)\n",
    "#         print(\"End point\",stop_index)\n",
    "        out[count]=data.iloc[start_index:stop_index,1:]\n",
    "        count+=1\n",
    "    return out,step_size\n",
    "def apply_windowing(data,outputform):\n",
    "    outData=np.empty((2,10,8),dtype=object)\n",
    "    count=0\n",
    "    for sensor in data:\n",
    "        print(\"Done\")\n",
    "        output = np.empty(outputform, dtype=object)\n",
    "      \n",
    "        for p_count,person in enumerate(sensor):\n",
    "            \n",
    "            for f_count,file in enumerate(person):\n",
    "                step_size=0\n",
    "                output[p_count,f_count],step_size=window_split_file(sensor[p_count,f_count])\n",
    "                if((p_count)*person.shape[0]+f_count==14):\n",
    "                    print(p_count,f_count,person.shape[0])\n",
    "                    print(\"He\",sensor[p_count,f_count].shape,\"step_size:\",step_size,\"size\",output[p_count,f_count].shape,\"Last timestamp\",sensor[p_count,f_count].iloc[-1,0])\n",
    "        outData[count]=output\n",
    "        count+=1\n",
    "    return outData\n",
    "def fix_number_windows(data):\n",
    "    for p_count,person in enumerate(data[0]):\n",
    "        for e_count,ex in enumerate(person):\n",
    "#             print(ex.shape[0])\n",
    "#             print(allData[1,p_count,e_count].shape[0])\n",
    "            if(ex.shape[0] != data[1,p_count,e_count].shape[0]):\n",
    "                print(\"Problem at \",p_count,e_count)\n",
    "                min_size=min(ex.shape[0] ,data[1,p_count,e_count].shape[0])\n",
    "                data[0,p_count,e_count]= data[0,p_count,e_count][:min_size];\n",
    "                data[1,p_count,e_count]= data[1,p_count,e_count][:min_size];\n",
    "    return data\n",
    "\n",
    "windowed_data=apply_windowing(allData,(10,8))\n",
    "windowed_data=fix_number_windows(windowed_data)\n",
    "print(windowed_data[0,0,0].shape)\n",
    "\n",
    "# print(r[1][0,0].shape)\n",
    "##########"
   ]
  },
  {
   "cell_type": "markdown",
   "metadata": {},
   "source": [
    "1.2 Plot few examples of prepared data for each modalities (accelometer and depth camera). Plot acceleration sensor as multi-dimensional time-series and depth camera data as 2D image. Plot 5 second acceleration sensor and depth image sequences of person 1 and 5 performing exercises 2, 5, and 6. Take the first windowed example from the long exercise sequence."
   ]
  },
  {
   "cell_type": "code",
   "execution_count": 3,
   "metadata": {},
   "outputs": [
    {
     "name": "stdout",
     "output_type": "stream",
     "text": [
      "(29, 5, 192)\n"
     ]
    },
    {
     "data": {
      "text/plain": [
       "<matplotlib.image.AxesImage at 0x7fad07d2ce10>"
      ]
     },
     "execution_count": 3,
     "metadata": {},
     "output_type": "execute_result"
    }
   ],
   "source": [
    "#############    windowed_data[0]                              [0,1]                       [0]   \n",
    "##############        0 for acc,1 for camera        person 1, exercise 2                  first frame of the exercise\n",
    "import matplotlib.pyplot as plt\n",
    "t=range(0,500)\n",
    "f = plt.figure(figsize=(30,10))\n",
    "f.add_subplot(3, 3, 1)\n",
    "plt.plot(t,windowed_data[0][0,1][0], 'g')\n",
    "plt.plot(t,windowed_data[0][4,1][0], 'r')\n",
    "\n",
    "f.add_subplot(3, 3, 2)\n",
    "plt.plot(t,windowed_data[0][0,4][0], 'g')\n",
    "plt.plot(t,windowed_data[0][4,4][0], 'r')\n",
    "\n",
    "f.add_subplot(3, 3, 3)\n",
    "plt.plot(t,windowed_data[0][0,5][0], 'g')\n",
    "plt.plot(t,windowed_data[0][4,5][0], 'r')\n",
    "\n",
    "f.add_subplot(3, 3, 4)\n",
    "# print(windowed_data[1][4,5][0,0].shape)\n",
    "image=windowed_data[1][0,1][0,0].reshape((12,16))\n",
    "plt.imshow(image)\n",
    "f.add_subplot(3, 3, 7)\n",
    "image=windowed_data[1][4,1][0,0].reshape((12,16))\n",
    "plt.imshow(image)\n",
    "\n",
    "f.add_subplot(3, 3, 5)\n",
    "# print(windowed_data[1][4,5][0,0].shape)\n",
    "image=windowed_data[1][0,4][0,0].reshape((12,16))\n",
    "plt.imshow(image)\n",
    "f.add_subplot(3, 3, 8)\n",
    "image=windowed_data[1][4,4][0,0].reshape((12,16))\n",
    "plt.imshow(image)\n",
    "\n",
    "f.add_subplot(3, 3, 6)\n",
    "print(windowed_data[1][0,5].shape)\n",
    "image=windowed_data[1][0,5][0,0].reshape((12,16))\n",
    "plt.imshow(image)\n",
    "f.add_subplot(3, 3, 9)\n",
    "image=windowed_data[1][4,5][0,0].reshape((12,16))\n",
    "plt.imshow(image)"
   ]
  },
  {
   "cell_type": "markdown",
   "metadata": {},
   "source": [
    "1.3 Split the prepared dataset to training and testing datasets so that data of persons 1-7 are used for training and data of persons 8-10 are used for testing. In next tasks, training dataset could be further divided on (multiple) validation data folds to tune the models parameters, when needed.\n"
   ]
  },
  {
   "cell_type": "code",
   "execution_count": 4,
   "metadata": {},
   "outputs": [
    {
     "name": "stdout",
     "output_type": "stream",
     "text": [
      "30 == 30\n",
      "29 == 29\n",
      "30 == 30\n",
      "22 == 22\n",
      "28 == 28\n",
      "29 == 29\n",
      "29 == 29\n",
      "29 == 29\n",
      "30 == 30\n",
      "31 == 31\n",
      "30 == 30\n",
      "15 == 15\n",
      "14 == 14\n",
      "32 == 32\n",
      "29 == 29\n",
      "31 == 31\n",
      "22 == 22\n",
      "38 == 38\n",
      "36 == 36\n",
      "17 == 17\n",
      "14 == 14\n",
      "15 == 15\n",
      "15 == 15\n",
      "22 == 22\n",
      "21 == 21\n",
      "36 == 36\n",
      "33 == 33\n",
      "14 == 14\n",
      "13 == 13\n",
      "28 == 28\n",
      "13 == 13\n",
      "30 == 30\n",
      "39 == 39\n",
      "39 == 39\n",
      "40 == 40\n",
      "13 == 13\n",
      "8 == 8\n",
      "44 == 44\n",
      "19 == 19\n",
      "40 == 40\n",
      "32 == 32\n",
      "36 == 36\n",
      "45 == 45\n",
      "9 == 9\n",
      "8 == 8\n",
      "22 == 22\n",
      "21 == 21\n",
      "33 == 33\n",
      "26 == 26\n",
      "42 == 42\n",
      "57 == 57\n",
      "6 == 6\n",
      "7 == 7\n",
      "35 == 35\n",
      "22 == 22\n",
      "38 == 38\n",
      "Out shape: (1486, 500, 3)  Label shape: (1486,)\n",
      "Out shape: (598, 500, 3)  Label shape: (598,)\n",
      "Out shape: (1486, 5, 192)  Label shape: (1486,)\n",
      "Out shape: (598, 5, 192)  Label shape: (598,)\n"
     ]
    }
   ],
   "source": [
    "def create_data_set(data):\n",
    "    out_data=np.empty((0,data[0,0].shape[1],data[0,0].shape[2]))\n",
    "    out_labels=np.empty(0,dtype=int)\n",
    "    for idx,person in enumerate(data):\n",
    "        for idy,exercise in enumerate(person):\n",
    "#             print(exercise.shape)\n",
    "            out_data=np.concatenate((out_data,exercise))\n",
    "            labels=np.full(exercise.shape[0],idy)### create labels array with the id of the exercise\n",
    "            out_labels=np.concatenate((out_labels,labels))\n",
    "    print(\"Out shape:\",out_data.shape,\" Label shape:\",out_labels.shape)\n",
    "    return out_data, out_labels\n",
    "training_data_slice=windowed_data[:,:7,:]\n",
    "testing_data_slice=windowed_data[:,7:,:]\n",
    "\n",
    "# training_data_acc=training_data_slice[0,:,:]\n",
    "\n",
    "for i in range(0,7):\n",
    "    for j in range(0,8):\n",
    "        print(training_data_slice[0,i,j].shape[0],\"==\",training_data_slice[1,i,j].shape[0])\n",
    "x_train_acc,y_train_acc=create_data_set(training_data_slice[0])\n",
    "x_test_acc,y_test_acc=create_data_set(testing_data_slice[0])\n",
    "x_train_cam,y_train_cam=create_data_set(training_data_slice[1])\n",
    "x_test_cam,y_test_cam=create_data_set(testing_data_slice[1])\n",
    "# print(x_train_acc,\"====\",x_test_acc)\n",
    "# print(\"!!!!!!!!!!!!!!!!!!!\")\n",
    "# print(x_train_cam,\"====\",x_test_cam)\n"
   ]
  },
  {
   "cell_type": "markdown",
   "metadata": {},
   "source": [
    "# 2. Feature extraction and fusion for unimodal classification"
   ]
  },
  {
   "cell_type": "markdown",
   "metadata": {},
   "source": [
    "<a id='task2'></a>\n",
    "<div class=\" alert alert-warning\">\n",
    "    <b>Assigment.</b> <b>Task 2.</b>\n",
    "\n",
    "Use the training dataset prepared in task 1. to build models based on the combination of principal component analysis (PCA), linear discriminant analysis (LDA), and nearest neighbour (NN) classifier for each modality separately and evaluate the model on test dataset. Do the subtasks given as\n",
    "<br>\n",
    "<br>\n",
    "<p> <b>2.1</b> Calculate PCA and LDA transformations to reduce the dimensionality of accelerometer data (e.g., using scikit-learn implementations). Before transformations downsample data from 100 Hz to 25 Hz (using scipy.signal.resample) to get 125x3 matrix of data for each 5 sec window. You should also standardize the values to zero mean and unit variance before the transformations. Using training dataset, fit PCA with 5-dimensional subspace (i.e., choosing the 5 largest principal components) and fit LDA with 5-dimensional subspace. Transform both train and test examples to this low-dimensional feature representation. Concatenate each sequence to single vector size of 3x(5+5). Perform the fusion of PCA and LDA similar manner as presented in Lecture 3 (pages-19-20) using NN method. Evaluate the performance on testset. Show confusion matrix and F1 scores of the results. </p>\n",
    "<br>\n",
    "<p> <b>2.2</b> Use PCA and LDA transformations to reduce the dimensionality of depth images. You should also standardize the values to zero mean and unit variance before the transformations. Fit PCA and LDA for all training images (12x16, 192-dimensional in vectorized form) by choosing 5-dimensional subspace for both PCA and LDA. Transform both train and test examples to this low-dimensional feature representation. Concatenate each sequence to single vector size of 5x1x(5+5). Similar to task 2.1, do the PCA and LDA fusion using NN and evaluate the performance on testset. Show confusion matrix and F1 scores of the results. </p>\n",
    "<br> \n",
    "Document your work, evaluate the results, and analyse the outcomes in each subtasks 2.1-2.2.\n",
    "    \n",
    "</div>"
   ]
  },
  {
   "cell_type": "code",
   "execution_count": 5,
   "metadata": {},
   "outputs": [],
   "source": [
    "\n",
    "from sklearn.decomposition import PCA\n",
    "from sklearn.discriminant_analysis import LinearDiscriminantAnalysis\n",
    "from scipy import signal\n",
    "def downsample(data):\n",
    "    \n",
    "    m=signal.resample(data,125)\n",
    "   \n",
    "    return m\n",
    "def standardise(data):\n",
    "    mean=np.mean(data,axis=0)\n",
    "    std=np.std(data,axis=0)\n",
    "    print(mean.shape)\n",
    "    print(std.shape)\n",
    "    res=(data-mean)/std\n",
    "    print(\"After standar\",res.shape)\n",
    "    \n",
    "    return res\n",
    "def preprocess(data,resample=True):\n",
    "    aux=standardise(data)\n",
    "    if(resample):\n",
    "        aux=np.apply_along_axis(downsample, 1, aux)\n",
    "    return aux"
   ]
  },
  {
   "cell_type": "code",
   "execution_count": 6,
   "metadata": {},
   "outputs": [
    {
     "name": "stdout",
     "output_type": "stream",
     "text": [
      "(500, 3)\n",
      "(500, 3)\n",
      "After standar (1486, 500, 3)\n",
      "(500, 3)\n",
      "(500, 3)\n",
      "After standar (598, 500, 3)\n",
      "(1486, 15)\n",
      "(1486, 15)\n",
      "(598, 15)\n",
      "(598, 15)\n",
      "(1486, 30)\n",
      "(598, 30)\n"
     ]
    }
   ],
   "source": [
    "\n",
    "\n",
    "x_train_acc_p=preprocess (x_train_acc)\n",
    "x_test_acc_p=preprocess (x_test_acc)\n",
    "\n",
    "\n",
    "pca_acc_1 = PCA(n_components=5)\n",
    "pca_acc_2 = PCA(n_components=5)\n",
    "pca_acc_3 = PCA(n_components=5)\n",
    "\n",
    "lda_acc_1=LinearDiscriminantAnalysis(n_components=5)\n",
    "lda_acc_2=LinearDiscriminantAnalysis(n_components=5)\n",
    "lda_acc_3=LinearDiscriminantAnalysis(n_components=5)\n",
    "\n",
    "x_acc_1_train_pca=pca_acc_1.fit_transform(x_train_acc_p[:,:,0])\n",
    "x_acc_2_train_pca=pca_acc_2.fit_transform(x_train_acc_p[:,:,1])\n",
    "x_acc_3_train_pca=pca_acc_3.fit_transform(x_train_acc_p[:,:,2])\n",
    "\n",
    "x_acc_1_test_pca=pca_acc_1.transform(x_test_acc_p[:,:,0])\n",
    "x_acc_2_test_pca=pca_acc_2.transform(x_test_acc_p[:,:,1])\n",
    "x_acc_3_test_pca=pca_acc_3.transform(x_test_acc_p[:,:,2])\n",
    "\n",
    "x_acc_1_train_lda=lda_acc_1.fit_transform(x_train_acc_p[:,:,0],y_train_acc)\n",
    "x_acc_2_train_lda=lda_acc_2.fit_transform(x_train_acc_p[:,:,1],y_train_acc)\n",
    "x_acc_3_train_lda=lda_acc_3.fit_transform(x_train_acc_p[:,:,2],y_train_acc)\n",
    "\n",
    "x_acc_1_test_lda=lda_acc_1.transform(x_test_acc_p[:,:,0])\n",
    "x_acc_2_test_lda=lda_acc_2.transform(x_test_acc_p[:,:,1])\n",
    "x_acc_3_test_lda=lda_acc_3.transform(x_test_acc_p[:,:,2])\n",
    "\n",
    "pca_train_acc=np.concatenate((x_acc_1_train_pca,x_acc_2_train_pca,x_acc_3_train_pca),axis=1)\n",
    "lda_train_acc=np.concatenate((x_acc_1_train_lda,x_acc_2_train_lda,x_acc_3_train_lda),axis=1)\n",
    "\n",
    "pca_test_acc=np.concatenate((x_acc_1_test_pca,x_acc_2_test_pca,x_acc_3_test_pca),axis=1)\n",
    "lda_test_acc=np.concatenate((x_acc_1_test_lda,x_acc_2_test_lda,x_acc_3_test_lda),axis=1)\n",
    "\n",
    "\n",
    "\n",
    "# pca_test_acc=np.concatenate((x_acc_1_test,x_acc_2_test,x_acc_3_test),axis=1)\n",
    "\n",
    "\n",
    "# x_test_pca_acc=pca_acc.transform(x_test_acc.reshape(-1,3))\n",
    "\n",
    "print(pca_train_acc.shape)\n",
    "print(lda_train_acc.shape)\n",
    "\n",
    "print(pca_test_acc.shape)\n",
    "print(lda_test_acc.shape)\n",
    "pca_lda_train_acc=np.concatenate((pca_train_acc,lda_train_acc),axis=1)\n",
    "pca_lda_test_acc=np.concatenate((pca_test_acc,lda_test_acc),axis=1)\n",
    "print(pca_lda_train_acc.shape)\n",
    "print(pca_lda_test_acc.shape)\n",
    "# print(x_train_acc[0,0])\n"
   ]
  },
  {
   "cell_type": "code",
   "execution_count": 7,
   "metadata": {},
   "outputs": [],
   "source": [
    "from sklearn.metrics import accuracy_score,f1_score,confusion_matrix\n",
    "def PCA_LDA_fusion(train,test,y_train):\n",
    "    predicted_labels=[]\n",
    "    for row in test:\n",
    "#         print(row.shape)\n",
    "#         print(train[:,0:3].shape)\n",
    "        d=train[:,0:15]-row[0:15]\n",
    "        D=train[:,15:30]-row[15:30]\n",
    "#         print(\"Dasda\",train[:,15:30].shape,train[:,15:].shape)\n",
    "#         print(d.shape)\n",
    "        d=np.sum(d**2,axis=1)\n",
    "        D=np.sum(D**2,axis=1)\n",
    "        d=(d-np.amin(d))/(np.amax(d)-np.amin(d))\n",
    "        D=(D-np.amin(D))/(np.amax(D)-np.amin(D))\n",
    "        F=(d+D)/2\n",
    "#         print(F)\n",
    "        label_index=np.argmin(F)\n",
    "        predicted_label=int(y_train[label_index])\n",
    "        predicted_labels.append(predicted_label)\n",
    "    return predicted_labels\n",
    "        \n"
   ]
  },
  {
   "cell_type": "code",
   "execution_count": 8,
   "metadata": {},
   "outputs": [
    {
     "name": "stdout",
     "output_type": "stream",
     "text": [
      "ACC: 0.44648829431438125\n",
      "F1 score: 0.45842893162919274\n"
     ]
    },
    {
     "data": {
      "text/plain": [
       "array([[16,  7, 34,  0,  0,  1, 27,  0],\n",
       "       [ 2, 34, 11,  0,  0,  7, 26,  4],\n",
       "       [ 0, 29, 28,  0,  0,  0, 24,  5],\n",
       "       [ 0,  0,  0, 45,  2,  0,  0,  0],\n",
       "       [ 0,  0,  0, 18,  9,  6,  0,  0],\n",
       "       [ 0, 44, 13,  0,  0, 32,  0,  1],\n",
       "       [ 0, 15,  3,  0,  0,  0, 67,  3],\n",
       "       [ 0, 15,  6,  0,  0,  1, 27, 36]])"
      ]
     },
     "execution_count": 8,
     "metadata": {},
     "output_type": "execute_result"
    }
   ],
   "source": [
    "        \n",
    "predicted=PCA_LDA_fusion(pca_lda_train_acc,pca_lda_test_acc,y_train_acc)\n",
    "# print(predicted)\n",
    "# print(y_test_acc)\n",
    "print(\"ACC:\",accuracy_score(y_test_acc,predicted))\n",
    "print(\"F1 score:\",f1_score(y_test_acc,predicted,average='macro'))\n",
    "confusion_matrix(y_test_acc,predicted)\n"
   ]
  },
  {
   "cell_type": "code",
   "execution_count": 9,
   "metadata": {},
   "outputs": [
    {
     "name": "stdout",
     "output_type": "stream",
     "text": [
      "(1486, 5, 192)\n",
      "(5, 192)\n",
      "(5, 192)\n",
      "After standar (1486, 5, 192)\n",
      "(5, 192)\n",
      "(5, 192)\n",
      "After standar (598, 5, 192)\n",
      "After processing (1486, 5, 192)\n",
      "(1486, 25)\n",
      "(1486, 25)\n",
      "(598, 25)\n",
      "(598, 25)\n",
      "(598, 50)\n"
     ]
    }
   ],
   "source": [
    "\n",
    "print(x_train_cam.shape)\n",
    "\n",
    "x_train_cam_p=preprocess(x_train_cam,resample=False)\n",
    "x_test_cam_p=preprocess(x_test_cam,resample=False)\n",
    "print(\"After processing\",x_train_cam_p.shape)\n",
    "pca_cam_1 = PCA(n_components=5)\n",
    "pca_cam_2 = PCA(n_components=5)\n",
    "pca_cam_3 = PCA(n_components=5)\n",
    "pca_cam_4 = PCA(n_components=5)\n",
    "pca_cam_5 = PCA(n_components=5)\n",
    "\n",
    "\n",
    "lda_cam_1=LinearDiscriminantAnalysis(n_components=5)\n",
    "lda_cam_2=LinearDiscriminantAnalysis(n_components=5)\n",
    "lda_cam_3=LinearDiscriminantAnalysis(n_components=5)\n",
    "lda_cam_4=LinearDiscriminantAnalysis(n_components=5)\n",
    "lda_cam_5=LinearDiscriminantAnalysis(n_components=5)\n",
    "\n",
    "x_cam_1_train_pca=pca_cam_1.fit_transform(x_train_cam_p[:,0,:])\n",
    "x_cam_2_train_pca=pca_cam_2.fit_transform(x_train_cam_p[:,1,:])\n",
    "x_cam_3_train_pca=pca_cam_3.fit_transform(x_train_cam_p[:,2,:])\n",
    "x_cam_4_train_pca=pca_cam_4.fit_transform(x_train_cam_p[:,3,:])\n",
    "x_cam_5_train_pca=pca_cam_5.fit_transform(x_train_cam_p[:,4,:])\n",
    "\n",
    "\n",
    "x_cam_1_test_pca=pca_cam_1.transform(x_test_cam_p[:,0,:])\n",
    "x_cam_2_test_pca=pca_cam_2.transform(x_test_cam_p[:,1,:])\n",
    "x_cam_3_test_pca=pca_cam_3.transform(x_test_cam_p[:,2,:])\n",
    "x_cam_4_test_pca=pca_cam_4.transform(x_test_cam_p[:,3,:])\n",
    "x_cam_5_test_pca=pca_cam_5.transform(x_test_cam_p[:,4,:])\n",
    "\n",
    "x_cam_1_train_lda=lda_cam_1.fit_transform(x_train_cam_p[:,0,:],y_train_cam)\n",
    "x_cam_2_train_lda=lda_cam_2.fit_transform(x_train_cam_p[:,1,:],y_train_cam)\n",
    "x_cam_3_train_lda=lda_cam_3.fit_transform(x_train_cam_p[:,2,:],y_train_cam)\n",
    "x_cam_4_train_lda=lda_cam_4.fit_transform(x_train_cam_p[:,3,:],y_train_cam)\n",
    "x_cam_5_train_lda=lda_cam_5.fit_transform(x_train_cam_p[:,4,:],y_train_cam)\n",
    "\n",
    "x_cam_1_test_lda=lda_cam_1.transform(x_test_cam_p[:,0,:])\n",
    "x_cam_2_test_lda=lda_cam_2.transform(x_test_cam_p[:,1,:])\n",
    "x_cam_3_test_lda=lda_cam_3.transform(x_test_cam_p[:,2,:])\n",
    "x_cam_4_test_lda=lda_cam_4.transform(x_test_cam_p[:,3,:])\n",
    "x_cam_5_test_lda=lda_cam_5.transform(x_test_cam_p[:,4,:])\n",
    "\n",
    "pca_train_cam=np.concatenate((x_cam_1_train_pca,x_cam_2_train_pca,x_cam_3_train_pca,x_cam_4_train_pca,x_cam_5_train_pca),axis=1)\n",
    "lda_train_cam=np.concatenate((x_cam_1_train_lda,x_cam_2_train_lda,x_cam_3_train_lda,x_cam_4_train_lda,x_cam_5_train_lda),axis=1)\n",
    "\n",
    "pca_test_cam=np.concatenate((x_cam_1_test_pca,x_cam_2_test_pca,x_cam_3_test_pca,x_cam_4_test_pca,x_cam_5_test_pca),axis=1)\n",
    "lda_test_cam=np.concatenate((x_cam_1_test_lda,x_cam_2_test_lda,x_cam_3_test_lda,x_cam_4_test_lda,x_cam_5_test_lda),axis=1)\n",
    "\n",
    "print(pca_train_cam.shape)\n",
    "print(lda_train_cam.shape)\n",
    "\n",
    "print(pca_test_cam.shape)\n",
    "print(lda_test_cam.shape)\n",
    "pca_lda_train_cam=np.concatenate((pca_train_cam,lda_train_cam),axis=1)\n",
    "pca_lda_test_cam=np.concatenate((pca_test_cam,pca_test_cam),axis=1)\n",
    "# print(pca_lda_train_cam)\n",
    "print(pca_lda_test_cam.shape)\n"
   ]
  },
  {
   "cell_type": "code",
   "execution_count": 10,
   "metadata": {},
   "outputs": [
    {
     "name": "stdout",
     "output_type": "stream",
     "text": [
      "ACC: 0.6153846153846154\n",
      "F1 score: 0.559781126521001\n"
     ]
    },
    {
     "data": {
      "text/plain": [
       "array([[78,  2,  0,  0,  4,  1,  0,  0],\n",
       "       [ 1, 56, 21,  1,  5,  0,  0,  0],\n",
       "       [ 6, 26, 54,  0,  0,  0,  0,  0],\n",
       "       [14, 11,  0,  3, 19,  0,  0,  0],\n",
       "       [12,  2,  0,  6, 13,  0,  0,  0],\n",
       "       [ 0,  2,  0,  1, 31, 56,  0,  0],\n",
       "       [ 0,  2,  0,  0, 13,  0, 68,  5],\n",
       "       [ 0,  2,  0,  1, 13,  0, 29, 40]])"
      ]
     },
     "execution_count": 10,
     "metadata": {},
     "output_type": "execute_result"
    }
   ],
   "source": [
    "predicted=PCA_LDA_fusion(pca_lda_train_cam,pca_lda_test_cam,y_train_cam)\n",
    "print(\"ACC:\",accuracy_score(y_test_cam,predicted))\n",
    "print(\"F1 score:\",f1_score(y_test_cam,predicted,average='macro'))\n",
    "confusion_matrix(y_test_cam,predicted)\n",
    "# print(predicted)"
   ]
  },
  {
   "cell_type": "markdown",
   "metadata": {},
   "source": [
    "The camera features seem to separate better the classes for the exercise than the accelerometer. This could be cause by the fact that a camera frame has more features(192) than the accelerometer (3) and thus can capture more information. Moreover, the acc captures only the acceleration but not the actual position of the body during the exercise, which the camera does, thus being more accurate. This can be seen both from the accuracy and the F1 score.\n"
   ]
  },
  {
   "cell_type": "markdown",
   "metadata": {},
   "source": [
    "# 3. Feature extraction and feature-level fusion for multimodal classification"
   ]
  },
  {
   "cell_type": "markdown",
   "metadata": {},
   "source": [
    "<a id='task3'></a>\n",
    "<div class=\" alert alert-warning\">\n",
    "    <b>Assigment.</b> <b>Task 3.</b>\n",
    "\n",
    "Prepare new feature sets for each modality and combine them to single feature representation. Compare two classifiers from scikit-learn. Train classifiers using joint feature presentation. Evaluate and compare the result using testing dataset. Do the subtasks given as\n",
    "<br>   \n",
    "<br> \n",
    "<p> <b>3.1</b> Similar to task 2.1, calculate PCA for accelerometer, but choose now the 10 largest principal components as 10-dim feature vector for each window. In addition, for each window calculate mean and standard deviation of each three acc channels as statistical features, resulting 6-dimensional vector. Combine these to 36-dimensional final feature vector.</p>\n",
    "<br>  \n",
    "<p> <b>3.2</b> Similar to task 2.2, calculate the PCA for depth images using same setup, but now choose the 10 largest principal components as feature vector. Concatenate the image sequence forming 50-dimensional feature vector from each windowed example.</p>\n",
    "<br> \n",
    "<p> <b>3.3</b> Form a joint feature presentation of features extracted in 3.1 and 3.2, resulting 86-dimensional feature vector for each example. Normalize data between 0-1 using the training dataset. Use support vector machine (SVM) with RBF-kernel and Gaussian naiveBayes classifier (use default parameter values for both classifiers). Train the classifiers and evaluate and compare classifiers on testset using confusion matrices and F1 scores.</p>\n",
    "<br> \n",
    "Document your work, evaluate the results, and analyse the outcomes in each subtasks 3.1-3.3.\n",
    "    \n",
    "</div>"
   ]
  },
  {
   "cell_type": "code",
   "execution_count": 11,
   "metadata": {},
   "outputs": [
    {
     "name": "stdout",
     "output_type": "stream",
     "text": [
      "(500, 3)\n",
      "(500, 3)\n",
      "After standar (1486, 500, 3)\n",
      "(500, 3)\n",
      "(500, 3)\n",
      "After standar (598, 500, 3)\n",
      "(5, 192)\n",
      "(5, 192)\n",
      "After standar (1486, 5, 192)\n",
      "(5, 192)\n",
      "(5, 192)\n",
      "After standar (598, 5, 192)\n",
      "pca_mean: (1486, 3)\n",
      "pca_std: (598, 3)\n",
      "pca_train_acc: (1486, 36)\n",
      "pca_test_acc: (598, 36)\n",
      "pca_train_cam: (1486, 50)\n",
      "pca_acc_cam_train: (1486, 86)\n",
      "pca_acc_cam_test: (598, 86)\n",
      "Max shape (86,)\n"
     ]
    }
   ],
   "source": [
    "\n",
    "x_train_acc_p=preprocess (x_train_acc)\n",
    "x_test_acc_p=preprocess (x_test_acc)\n",
    "x_train_cam_p=preprocess(x_train_cam,resample=False)\n",
    "x_test_cam_p=preprocess(x_test_cam,resample=False)\n",
    "\n",
    "pca_acc_1 = PCA(n_components=10)\n",
    "pca_acc_2 = PCA(n_components=10)\n",
    "pca_acc_3 = PCA(n_components=10)\n",
    "\n",
    "x_acc_1_train_pca=pca_acc_1.fit_transform(x_train_acc_p[:,:,0])\n",
    "x_acc_2_train_pca=pca_acc_2.fit_transform(x_train_acc_p[:,:,1])\n",
    "x_acc_3_train_pca=pca_acc_3.fit_transform(x_train_acc_p[:,:,2])\n",
    "\n",
    "x_acc_1_test_pca=pca_acc_1.transform(x_test_acc_p[:,:,0])\n",
    "x_acc_2_test_pca=pca_acc_2.transform(x_test_acc_p[:,:,1])\n",
    "x_acc_3_test_pca=pca_acc_3.transform(x_test_acc_p[:,:,2])\n",
    "\n",
    "pca_train_mean=np.mean(x_train_acc_p,axis=1)\n",
    "pca_train_std=np.std(x_train_acc_p,axis=1)\n",
    "pca_test_mean=np.mean(x_test_acc_p,axis=1)\n",
    "pca_test_std=np.std(x_test_acc_p,axis=1)\n",
    "print(\"pca_mean:\",pca_train_mean.shape)\n",
    "print(\"pca_std:\",pca_test_mean.shape)\n",
    "\n",
    "pca_train_acc=np.concatenate((x_acc_1_train_pca,x_acc_2_train_pca,x_acc_3_train_pca,pca_train_mean,pca_train_std),axis=1)\n",
    "pca_test_acc=np.concatenate((x_acc_1_test_pca,x_acc_2_test_pca,x_acc_3_test_pca,pca_test_mean,pca_test_std),axis=1)\n",
    "\n",
    "\n",
    "pca_cam_1 = PCA(n_components=10)\n",
    "pca_cam_2 = PCA(n_components=10)\n",
    "pca_cam_3 = PCA(n_components=10)\n",
    "pca_cam_4 = PCA(n_components=10)\n",
    "pca_cam_5 = PCA(n_components=10)\n",
    "\n",
    "x_cam_1_train_pca=pca_cam_1.fit_transform(x_train_cam_p[:,0,:])\n",
    "x_cam_2_train_pca=pca_cam_2.fit_transform(x_train_cam_p[:,1,:])\n",
    "x_cam_3_train_pca=pca_cam_3.fit_transform(x_train_cam_p[:,2,:])\n",
    "x_cam_4_train_pca=pca_cam_4.fit_transform(x_train_cam_p[:,3,:])\n",
    "x_cam_5_train_pca=pca_cam_5.fit_transform(x_train_cam_p[:,4,:])\n",
    "\n",
    "\n",
    "x_cam_1_test_pca=pca_cam_1.transform(x_test_cam_p[:,0,:])\n",
    "x_cam_2_test_pca=pca_cam_2.transform(x_test_cam_p[:,1,:])\n",
    "x_cam_3_test_pca=pca_cam_3.transform(x_test_cam_p[:,2,:])\n",
    "x_cam_4_test_pca=pca_cam_4.transform(x_test_cam_p[:,3,:])\n",
    "x_cam_5_test_pca=pca_cam_5.transform(x_test_cam_p[:,4,:])\n",
    "\n",
    "\n",
    "\n",
    "pca_train_cam=np.concatenate((x_cam_1_train_pca,x_cam_2_train_pca,x_cam_3_train_pca,x_cam_4_train_pca,x_cam_5_train_pca),axis=1)\n",
    "pca_test_cam=np.concatenate((x_cam_1_test_pca,x_cam_2_test_pca,x_cam_3_test_pca,x_cam_4_test_pca,x_cam_5_test_pca),axis=1)\n",
    "\n",
    "\n",
    "# pca_test_acc=np.concatenate((x_acc_1_test,x_acc_2_test,x_acc_3_test),axis=1)\n",
    "\n",
    "\n",
    "# x_test_pca_acc=pca_acc.transform(x_test_acc.reshape(-1,3))\n",
    "\n",
    "print(\"pca_train_acc:\",pca_train_acc.shape)\n",
    "\n",
    "print(\"pca_test_acc:\",pca_test_acc.shape)\n",
    "print(\"pca_train_cam:\",pca_train_cam.shape)\n",
    "\n",
    "pca_acc_cam_train=np.concatenate((pca_train_acc,pca_train_cam),axis=1)\n",
    "pca_acc_cam_test=np.concatenate((pca_test_acc,pca_test_cam),axis=1)\n",
    "print(\"pca_acc_cam_train:\",pca_acc_cam_train.shape)\n",
    "print(\"pca_acc_cam_test:\",pca_acc_cam_test.shape)\n",
    "                           \n",
    "train_max=np.max(pca_acc_cam_train,axis=0)\n",
    "train_min=np.min(pca_acc_cam_train,axis=0)\n",
    "print(\"Max shape\",train_max.shape)\n",
    "pca_acc_cam_train=(pca_acc_cam_train-train_min)/(train_max-train_min)\n",
    "pca_acc_cam_test=(pca_acc_cam_test-train_min)/(train_max-train_min)\n"
   ]
  },
  {
   "cell_type": "markdown",
   "metadata": {},
   "source": [
    "3.3 Form a joint feature presentation of features extracted in 3.1 and 3.2, resulting 86-dimensional feature vector for each example. Normalize data between 0-1 using the training dataset. Use support vector machine (SVM) with RBF-kernel and Gaussian naiveBayes classifier (use default parameter values for both classifiers). Train the classifiers and evaluate and compare classifiers on testset using confusion matrices and F1 scores.\n",
    "\n"
   ]
  },
  {
   "cell_type": "code",
   "execution_count": 12,
   "metadata": {},
   "outputs": [
    {
     "name": "stdout",
     "output_type": "stream",
     "text": [
      "SVM acc: 0.7892976588628763\n",
      "Bayes acc: 0.7775919732441472\n",
      "SVM F1: 0.7374454879098487\n",
      "BAYES F1: 0.747713661603282\n"
     ]
    },
    {
     "data": {
      "image/png": "[encoded data removed]",
      "text/plain": [
       "<Figure size 432x288 with 2 Axes>"
      ]
     },
     "metadata": {
      "needs_background": "light"
     },
     "output_type": "display_data"
    },
    {
     "data": {
      "image/png": "[encoded data removed]",
      "text/plain": [
       "<Figure size 432x288 with 2 Axes>"
      ]
     },
     "metadata": {
      "needs_background": "light"
     },
     "output_type": "display_data"
    }
   ],
   "source": [
    "from sklearn.svm import SVC\n",
    "from sklearn.naive_bayes import GaussianNB\n",
    "from sklearn.metrics import plot_confusion_matrix\n",
    "from sklearn.metrics import f1_score\n",
    "svm=SVC(kernel='rbf')\n",
    "bayes=GaussianNB()\n",
    "svm.fit(pca_acc_cam_train,y_train_acc)\n",
    "bayes.fit(pca_acc_cam_train,y_train_acc)\n",
    "print(\"SVM acc:\",svm.score(pca_acc_cam_test,y_test_acc))\n",
    "print(\"Bayes acc:\",bayes.score(pca_acc_cam_test,y_test_acc))\n",
    "plot_confusion_matrix(svm, pca_acc_cam_test, y_test_acc)  \n",
    "plot_confusion_matrix(bayes, pca_acc_cam_test, y_test_acc)\n",
    "pred_svm=svm.predict(pca_acc_cam_test)\n",
    "pred_bayes=bayes.predict(pca_acc_cam_test)\n",
    "print(\"SVM F1:\",f1_score(pred_svm, y_test_acc, average='macro'))\n",
    "print(\"BAYES F1:\",f1_score(pred_bayes, y_test_acc, average='macro'))\n"
   ]
  },
  {
   "cell_type": "markdown",
   "metadata": {},
   "source": [
    "Judging by accuracies we can say that the SVM performed better than the Bayesian classifier.\n",
    "Looking at the F1 score the Bayes performed better than the SVM. The reason for this is because the SVM performs very only certain classes while the Bayeasin classifier performs not so bad, but for a wider number of classes."
   ]
  },
  {
   "cell_type": "markdown",
   "metadata": {},
   "source": [
    "# 4. Decision-level fusion for multimodal classification"
   ]
  },
  {
   "cell_type": "markdown",
   "metadata": {},
   "source": [
    "<a id='task4'></a>\n",
    "<div class=\" alert alert-warning\">\n",
    "    <b>Assigment.</b> <b>Task 4.</b>\n",
    "\n",
    "Use features calculated for each modality in task 3. Choose base classifier for each modality from scikit-learn. Train classifiers for each modality feature presentations separately and combine the outputs in decision level. Evaluate and compare the result on testing dataset. Do the subtasks given as\n",
    "<br>\n",
    "<br> \n",
    "<p> <b>4.1</b> Use base classifiers of support vector machine (SVM) with RBF-kernel and AdaBoost classifier (with random_state=0). \n",
    "Normalize data between 0-1 using the training dataset. Train the base classifiers by tuning the model parameters (<i>C</i> parameter and RBF-kernel <i>gamma</i> in SVM as well as <i>n_estimators</i> and <i>learning_rate</i> in Adaboost) using 10-fold cross-validation on training dataset to find optimal set of parameters (hint: use GridSearchCV from scikit-learn). For grid search use the following values $C = [0.1, 1.0, 10.0, 100.0]$, $gamma=[0.1, 0.25, 0.5, 0.75, 1.0, 2.0]$, $n\\_estimators = [50, 100, 500, 1000]$, and $learning\\_rate = [0.1, 0.25, 0.5, 0.75,1.0]$. Choose the best parameters and train the classifiers for each modality on whole training dataset. Is there a possibility that classifiers will overfit to training data using this parameter selection strategy? If so, why? </p>\n",
    "<br>\n",
    "<p> <b>4.2</b> Predict probabilistic outputs of each trained classifier for both modalities using the test set. </p>\n",
    "<br>\n",
    "<p> <b>4.3</b> Combine the probabilistic outputs of different modalities by fixed classification rules: max, min, prod, and sum. Evaluate, compare, and analyse the final combined results using confusion matrices and F1 scores. Show results for each base classifier combinations (i.e., $SVM_{acc}+SVM_{depth}$, $AdaBoost_{acc}+AdaBoost_{depth}$, $SVM_{acc}+AdaBoost_{depth}$, $AdaBoost_{acc}+SVM_{depth}$)</p>\n",
    "<br>\n",
    "Document your work, evaluate the results, and analyse the outcomes in each subtasks 4.1-4.3.\n",
    "    \n",
    "</div>"
   ]
  },
  {
   "cell_type": "markdown",
   "metadata": {},
   "source": [
    "Normalize data"
   ]
  },
  {
   "cell_type": "code",
   "execution_count": 13,
   "metadata": {},
   "outputs": [],
   "source": [
    "train_max = np.max(pca_train_acc, axis=0)\n",
    "train_min = np.min(pca_train_acc, axis=0)\n",
    "\n",
    "pca_train_acc_n = (pca_train_acc - train_min) / (train_max - train_min)\n",
    "pca_test_acc_n = (pca_test_acc - train_min) / (train_max - train_min)\n",
    "\n",
    "train_max = np.max(pca_train_cam, axis=0)\n",
    "train_min = np.min(pca_train_cam, axis=0)\n",
    "\n",
    "pca_train_cam_n = (pca_train_cam - train_min) / (train_max - train_min)\n",
    "pca_test_cam_n = (pca_test_cam - train_min) / (train_max - train_min)"
   ]
  },
  {
   "cell_type": "markdown",
   "metadata": {},
   "source": [
    "Base classifiers for accelerometer"
   ]
  },
  {
   "cell_type": "code",
   "execution_count": 14,
   "metadata": {},
   "outputs": [
    {
     "name": "stdout",
     "output_type": "stream",
     "text": [
      "SVM:  0.9737529475784509\n",
      "Adaboost:  0.8203428260475241\n",
      "------------------------\n",
      "SVM:  0.9562715399963722\n",
      "Adaboost:  0.557768002902231\n"
     ]
    }
   ],
   "source": [
    "from sklearn.model_selection import GridSearchCV\n",
    "from sklearn.ensemble import AdaBoostClassifier\n",
    "\n",
    "#####################\n",
    "####Accelerometer####\n",
    "#####################\n",
    "svm = SVC(kernel='rbf')\n",
    "parameters_svm = {'C' : [0.1,1.0,10.0,100.0], 'gamma' : [0.1,0.25,0.5,0.75,1.0,2.0]}\n",
    "clf_svm = GridSearchCV(svm, parameters_svm, cv=10, n_jobs=-1)\n",
    "clf_svm.fit(pca_train_acc_n, y_train_acc)\n",
    "print('SVM: ', clf_svm.best_score_)\n",
    "\n",
    "adaboost = AdaBoostClassifier(random_state=0)\n",
    "parameters_ada = {'n_estimators' : [50,100,500,1000], 'learning_rate': [0.1,0.25,0.5,0.75,1.0]}\n",
    "clf_ada = GridSearchCV(adaboost, parameters_ada, cv=10, n_jobs=-1)\n",
    "clf_ada.fit(pca_train_acc_n, y_train_acc)\n",
    "print('Adaboost: ', clf_ada.best_score_)\n",
    "\n",
    "print('------------------------')\n",
    "\n",
    "#####################\n",
    "####Camera###########\n",
    "#####################\n",
    "svm_cam = SVC(kernel='rbf')\n",
    "clf_svm_cam = GridSearchCV(svm_cam, parameters_svm, cv=10, n_jobs=-1)\n",
    "clf_svm_cam.fit(pca_train_cam_n, y_train_cam)\n",
    "print('SVM: ', clf_svm_cam.best_score_)\n",
    "\n",
    "adaboost_cam = AdaBoostClassifier(random_state=0)\n",
    "clf_ada_cam = GridSearchCV(adaboost_cam, parameters_ada, cv=10, n_jobs=-1)\n",
    "clf_ada_cam.fit(pca_train_cam_n, y_train_cam)\n",
    "print('Adaboost: ', clf_ada_cam.best_score_)"
   ]
  },
  {
   "cell_type": "markdown",
   "metadata": {},
   "source": [
    "Training using the best parameters. We are choosing the SVM since it has higher accuracy score."
   ]
  },
  {
   "cell_type": "code",
   "execution_count": 15,
   "metadata": {},
   "outputs": [
    {
     "name": "stdout",
     "output_type": "stream",
     "text": [
      "Accelerometer\n",
      "{'C': 100.0, 'gamma': 0.75}\n",
      "{'learning_rate': 0.5, 'n_estimators': 1000}\n",
      "--------------\n",
      "Camera\n",
      "{'C': 10.0, 'gamma': 0.75}\n",
      "{'learning_rate': 0.5, 'n_estimators': 50}\n"
     ]
    }
   ],
   "source": [
    "print('Accelerometer')\n",
    "print(clf_svm.cv_results_['params'][clf_svm.best_index_])\n",
    "print(clf_ada.cv_results_['params'][clf_ada.best_index_])\n",
    "\n",
    "print('--------------')\n",
    "\n",
    "print('Camera')\n",
    "print(clf_svm_cam.cv_results_['params'][clf_svm_cam.best_index_])\n",
    "print(clf_ada_cam.cv_results_['params'][clf_ada_cam.best_index_])"
   ]
  },
  {
   "cell_type": "code",
   "execution_count": 16,
   "metadata": {},
   "outputs": [
    {
     "data": {
      "text/plain": [
       "AdaBoostClassifier(learning_rate=0.25, n_estimators=100, random_state=0)"
      ]
     },
     "execution_count": 16,
     "metadata": {},
     "output_type": "execute_result"
    }
   ],
   "source": [
    "svm_best_acc = SVC(kernel='rbf', C=100, gamma=0.75, probability=True)\n",
    "svm_best_acc.fit(pca_train_acc_n, y_train_acc)\n",
    "\n",
    "ada_best_acc = AdaBoostClassifier(learning_rate=0.5, n_estimators=1000, random_state=0)\n",
    "ada_best_acc.fit(pca_train_acc_n, y_train_acc)\n",
    "\n",
    "svm_best_cam = SVC(kernel='rbf', C=10, gamma=0.75, probability=True)\n",
    "svm_best_cam.fit(pca_train_cam_n, y_train_cam)\n",
    "\n",
    "ada_best_cam = AdaBoostClassifier(learning_rate=0.25, n_estimators=100, random_state=0)\n",
    "ada_best_cam.fit(pca_train_cam_n, y_train_cam)"
   ]
  },
  {
   "cell_type": "markdown",
   "metadata": {},
   "source": [
    "Predict probabilities"
   ]
  },
  {
   "cell_type": "code",
   "execution_count": 17,
   "metadata": {},
   "outputs": [
    {
     "name": "stdout",
     "output_type": "stream",
     "text": [
      "Accelerometer\n",
      "Test SVM score:  0.580267558528428\n",
      "Test AdaBoost score:  0.4916387959866221\n",
      "---------------\n",
      "Camera\n",
      "Test SVM score:  0.7608695652173914\n",
      "Test AdaBoost score:  0.45652173913043476\n"
     ]
    }
   ],
   "source": [
    "print('Accelerometer')\n",
    "print('Test SVM score: ', svm_best_acc.score(pca_test_acc_n, y_test_acc))\n",
    "yprob_svm_acc = svm_best_acc.predict_proba(pca_test_acc_n)\n",
    "ypred_svm_acc = svm_best_acc.predict(pca_test_acc_n)\n",
    "y_belief_svm_acc = svm_best_acc.decision_function(pca_test_acc_n)\n",
    "\n",
    "print('Test AdaBoost score: ', ada_best_acc.score(pca_test_acc_n, y_test_acc))\n",
    "yprob_ada_acc = ada_best_acc.predict_proba(pca_test_acc_n)\n",
    "ypred_ada_acc = ada_best_acc.predict(pca_test_acc_n)\n",
    "y_belief_ada_acc = ada_best_acc.decision_function(pca_test_acc_n)\n",
    "\n",
    "print('---------------')\n",
    "\n",
    "print('Camera')\n",
    "print('Test SVM score: ', svm_best_cam.score(pca_test_cam_n, y_test_cam))\n",
    "yprob_svm_cam = svm_best_cam.predict_proba(pca_test_cam_n)\n",
    "ypred_svm_cam = svm_best_cam.predict(pca_test_cam_n)\n",
    "y_belief_svm_cam = svm_best_cam.decision_function(pca_test_cam_n)\n",
    "\n",
    "print('Test AdaBoost score: ', ada_best_cam.score(pca_test_cam_n, y_test_cam))\n",
    "yprob_ada_cam = ada_best_cam.predict_proba(pca_test_cam_n)\n",
    "ypred_ada_cam = ada_best_cam.predict(pca_test_cam_n)\n",
    "y_belief_ada_cam = ada_best_cam.decision_function(pca_test_cam_n)"
   ]
  },
  {
   "cell_type": "code",
   "execution_count": 18,
   "metadata": {},
   "outputs": [],
   "source": [
    "w_svm_acc = svm_best_acc.score(pca_train_acc_n, y_train_acc)\n",
    "w_ada_acc = ada_best_acc.score(pca_train_acc_n, y_train_acc)\n",
    "\n",
    "w_svm_cam = svm_best_cam.score(pca_train_cam_n, y_train_cam)\n",
    "w_ada_cam = ada_best_cam.score(pca_train_cam_n, y_train_cam)"
   ]
  },
  {
   "cell_type": "markdown",
   "metadata": {},
   "source": [
    "# $SVM_{acc} \\& SVM_{depth}$"
   ]
  },
  {
   "cell_type": "code",
   "execution_count": 19,
   "metadata": {},
   "outputs": [
    {
     "name": "stdout",
     "output_type": "stream",
     "text": [
      "Prod: \n",
      "[[85  0  0  0  0  0  0  0]\n",
      " [ 1 57  0  0  0  0 24  2]\n",
      " [ 0 32 25  0  0  0 29  0]\n",
      " [ 3  1  0 31 12  0  0  0]\n",
      " [ 0  0  0 14 19  0  0  0]\n",
      " [ 0  2  0  0  0 87  0  1]\n",
      " [ 0  1  0  0  0  0 84  3]\n",
      " [ 0  1  0  0  0  0  3 81]]\n",
      "F1 score:  0.749665980527612\n",
      "Mean: \n",
      "[[83  0  0  0  0  0  0  2]\n",
      " [ 0 55  3  0  0  0 25  1]\n",
      " [ 0 33 24  0  0  0 29  0]\n",
      " [ 0  1  0 29 17  0  0  0]\n",
      " [ 0  0  0 15 18  0  0  0]\n",
      " [ 0 11  0  0  0 78  0  1]\n",
      " [ 0  3  0  0  0  0 79  6]\n",
      " [ 0  1  0  0  0  0  3 81]]\n",
      "F1 score:  0.7148922376359431\n",
      "Max: \n",
      "[[83  0  0  0  0  0  0  2]\n",
      " [ 0 55  3  0  0  0 25  1]\n",
      " [ 0 33 24  0  0  0 29  0]\n",
      " [ 0  1  0 27 19  0  0  0]\n",
      " [ 0  0  0 15 18  0  0  0]\n",
      " [ 0 14  0  0  0 75  0  1]\n",
      " [ 0  5  0  0  0  0 73 10]\n",
      " [ 0  1  0  0  0  0  3 81]]\n",
      "F1 score:  0.6978331440922769\n",
      "Min: \n",
      "[[84  0  0  0  0  0  0  1]\n",
      " [ 2 53  0  0  2  0  0 27]\n",
      " [ 0 35 22  0  0  0  4 25]\n",
      " [ 3  0  0 32 12  0  0  0]\n",
      " [ 0  0  0 12 19  1  0  1]\n",
      " [ 0  2  0  0  0 87  0  1]\n",
      " [ 0  1  0  0  0  0 87  0]\n",
      " [ 0  1  0  0  0  0  3 81]]\n",
      "F1 score:  0.7401069219066831\n"
     ]
    }
   ],
   "source": [
    "y_test = y_test_cam\n",
    "y_train = y_train_cam\n",
    "\n",
    "labels = np.zeros((2, np.max(y_train)+1,len(y_test)))\n",
    "for count in range(len(y_test)):\n",
    "    labels[0, ypred_svm_acc[count], count] = 1\n",
    "    labels[1, ypred_svm_cam[count], count] = 1\n",
    "    \n",
    "posterior_scores = np.array((yprob_svm_acc, yprob_svm_cam))    \n",
    "\n",
    "conf_m =  confusion_matrix(y_test, np.argmax(np.prod(posterior_scores,axis=0),axis=1))\n",
    "F1_score = f1_score(y_test, np.argmax(np.prod(posterior_scores,axis=0),axis=1), average='macro')\n",
    "print('Prod: ')\n",
    "print(conf_m)\n",
    "print('F1 score: ', F1_score)\n",
    "\n",
    "conf_m = confusion_matrix(y_test, np.argmax(np.mean(posterior_scores, axis=0),axis=1))\n",
    "F1_score = f1_score(y_test, np.argmax(np.mean(posterior_scores, axis=0),axis=1), average='macro')\n",
    "print('Mean: ')\n",
    "print(conf_m)\n",
    "print('F1 score: ', F1_score)\n",
    "\n",
    "conf_m = confusion_matrix(y_test, np.argmax(np.max(posterior_scores, axis=0),axis=1))\n",
    "F1_score = f1_score(y_test, np.argmax(np.max(posterior_scores, axis=0),axis=1), average='macro')\n",
    "print('Max: ')\n",
    "print(conf_m)\n",
    "print('F1 score: ', F1_score)\n",
    "\n",
    "conf_m = confusion_matrix(y_test, np.argmax(np.min(posterior_scores, axis=0),axis=1))\n",
    "F1_score = f1_score(y_test, np.argmax(np.min(posterior_scores, axis=0),axis=1), average='macro')\n",
    "print('Min: ')\n",
    "print(conf_m)\n",
    "print('F1 score: ', F1_score)"
   ]
  },
  {
   "cell_type": "markdown",
   "metadata": {},
   "source": [
    "# $Adaboost_{acc} \\& SVM_{depth}$"
   ]
  },
  {
   "cell_type": "code",
   "execution_count": 20,
   "metadata": {},
   "outputs": [
    {
     "name": "stdout",
     "output_type": "stream",
     "text": [
      "Prod:  0.7993311036789298\n",
      "Mean:  0.8010033444816054\n",
      "Max:  0.7959866220735786\n",
      "Min:  0.7709030100334449\n"
     ]
    }
   ],
   "source": [
    "labels = np.zeros((2, np.max(y_train)+1,len(y_test)))\n",
    "for count in range(len(y_test)):\n",
    "    labels[0, ypred_ada_acc[count], count] = 1\n",
    "    labels[1, ypred_svm_cam[count], count] = 1\n",
    "    \n",
    "posterior_scores = np.array((yprob_ada_acc, yprob_svm_cam))    \n",
    "\n",
    "test_acc =  accuracy_score(y_test, np.argmax(np.prod(posterior_scores,axis=0),axis=1))\n",
    "print('Prod: ', test_acc)\n",
    "\n",
    "test_acc = accuracy_score(y_test, np.argmax(np.mean(posterior_scores, axis=0),axis=1))\n",
    "print('Mean: ', test_acc)\n",
    "\n",
    "test_acc = accuracy_score(y_test, np.argmax(np.max(posterior_scores, axis=0),axis=1))\n",
    "print('Max: ', test_acc)\n",
    "\n",
    "test_acc = accuracy_score(y_test, np.argmax(np.min(posterior_scores, axis=0),axis=1))\n",
    "print('Min: ', test_acc)"
   ]
  },
  {
   "cell_type": "markdown",
   "metadata": {},
   "source": [
    "# $SVM_{acc} \\& Adaboost_{depth}$"
   ]
  },
  {
   "cell_type": "code",
   "execution_count": 21,
   "metadata": {},
   "outputs": [
    {
     "name": "stdout",
     "output_type": "stream",
     "text": [
      "Prod:  0.7424749163879598\n",
      "Mean:  0.6722408026755853\n",
      "Max:  0.6187290969899666\n",
      "Min:  0.7491638795986622\n"
     ]
    }
   ],
   "source": [
    "labels = np.zeros((2, np.max(y_train)+1,len(y_test)))\n",
    "for count in range(len(y_test)):\n",
    "    labels[0, ypred_svm_acc[count], count] = 1\n",
    "    labels[1, ypred_ada_cam[count], count] = 1\n",
    "    \n",
    "posterior_scores = np.array((yprob_svm_acc, yprob_ada_cam))    \n",
    "\n",
    "test_acc =  accuracy_score(y_test, np.argmax(np.prod(posterior_scores,axis=0),axis=1))\n",
    "print('Prod: ', test_acc)\n",
    "\n",
    "test_acc = accuracy_score(y_test, np.argmax(np.mean(posterior_scores, axis=0),axis=1))\n",
    "print('Mean: ', test_acc)\n",
    "\n",
    "test_acc = accuracy_score(y_test, np.argmax(np.max(posterior_scores, axis=0),axis=1))\n",
    "print('Max: ', test_acc)\n",
    "\n",
    "test_acc = accuracy_score(y_test, np.argmax(np.min(posterior_scores, axis=0),axis=1))\n",
    "print('Min: ', test_acc)"
   ]
  },
  {
   "cell_type": "markdown",
   "metadata": {},
   "source": [
    "# $Adaboost_{acc} \\& Adaboost_{depth}$"
   ]
  },
  {
   "cell_type": "code",
   "execution_count": 22,
   "metadata": {},
   "outputs": [
    {
     "name": "stdout",
     "output_type": "stream",
     "text": [
      "Prod:  0.5986622073578596\n",
      "Mean:  0.5836120401337793\n",
      "Max:  0.5501672240802675\n",
      "Min:  0.6237458193979933\n"
     ]
    }
   ],
   "source": [
    "labels = np.zeros((2, np.max(y_train)+1,len(y_test)))\n",
    "for count in range(len(y_test)):\n",
    "    labels[0, ypred_ada_acc[count], count] = 1\n",
    "    labels[1, ypred_ada_cam[count], count] = 1\n",
    "    \n",
    "posterior_scores = np.array((yprob_ada_acc, yprob_ada_cam))    \n",
    "\n",
    "test_acc =  accuracy_score(y_test, np.argmax(np.prod(posterior_scores,axis=0),axis=1))\n",
    "print('Prod: ', test_acc)\n",
    "\n",
    "test_acc = accuracy_score(y_test, np.argmax(np.mean(posterior_scores, axis=0),axis=1))\n",
    "print('Mean: ', test_acc)\n",
    "\n",
    "test_acc = accuracy_score(y_test, np.argmax(np.max(posterior_scores, axis=0),axis=1))\n",
    "print('Max: ', test_acc)\n",
    "\n",
    "test_acc = accuracy_score(y_test, np.argmax(np.min(posterior_scores, axis=0),axis=1))\n",
    "print('Min: ', test_acc)"
   ]
  },
  {
   "cell_type": "markdown",
   "metadata": {},
   "source": [
    "# 5. Bonus task: Multimodal biometric identification of persons (optional)"
   ]
  },
  {
   "cell_type": "markdown",
   "metadata": {},
   "source": [
    "<a id='task5'></a>\n",
    "<div class=\" alert alert-warning\">\n",
    "    <b>Assigment.</b> <b>Task 5.</b>\n",
    "\n",
    "Can you build a classifier that recognizes the person who is performing the exercise? Use same 10 person dataset and split it so that first 25% of each long exercise sequence is used for training and rest 75% of each sequence is used for testing the classifier. Use same 5 second windowing with 3 seconds overlap to prepare the examples. Note that, now the person identity is the class label instead of exercise type. Max. 10 points are given but you can earn points from partial solution, as well.\n",
    "<br> \n",
    "<br> \n",
    "<p> <b>5.1</b> Build a classifier to identify persons based on the features and one of the models given in task 4 (max. 5 points).</p>\n",
    "<br> \n",
    "<p> <b>5.2</b> Can you build your own solution (using new features, new classification model or different fusion approaches) to beat the approach in Task 5.1 ? (max. 5 points) </p>\n",
    "<br>  \n",
    "Document your work. Evaluate and compare the results using confusion matrix and F1 score.\n",
    "\n",
    "</div>"
   ]
  },
  {
   "cell_type": "code",
   "execution_count": null,
   "metadata": {},
   "outputs": [],
   "source": []
  },
  {
   "cell_type": "code",
   "execution_count": null,
   "metadata": {},
   "outputs": [],
   "source": []
  },
  {
   "cell_type": "code",
   "execution_count": null,
   "metadata": {},
   "outputs": [],
   "source": []
  },
  {
   "cell_type": "code",
   "execution_count": null,
   "metadata": {},
   "outputs": [],
   "source": []
  },
  {
   "cell_type": "code",
   "execution_count": null,
   "metadata": {},
   "outputs": [],
   "source": []
  }
 ],
 "metadata": {
  "celltoolbar": "Create Assignment",
  "kernelspec": {
   "display_name": "Python 3",
   "language": "python",
   "name": "python3"
  },
  "language_info": {
   "codemirror_mode": {
    "name": "ipython",
    "version": 3
   },
   "file_extension": ".py",
   "mimetype": "text/x-python",
   "name": "python",
   "nbconvert_exporter": "python",
   "pygments_lexer": "ipython3",
   "version": "3.7.8"
  },
  "varInspector": {
   "cols": {
    "lenName": 16,
    "lenType": 16,
    "lenVar": 40
   },
   "kernels_config": {
    "python": {
     "delete_cmd_postfix": "",
     "delete_cmd_prefix": "del ",
     "library": "var_list.py",
     "varRefreshCmd": "print(var_dic_list())"
    },
    "r": {
     "delete_cmd_postfix": ") ",
     "delete_cmd_prefix": "rm(",
     "library": "var_list.r",
     "varRefreshCmd": "cat(var_dic_list()) "
    }
   },
   "types_to_exclude": [
    "module",
    "function",
    "builtin_function_or_method",
    "instance",
    "_Feature"
   ],
   "window_display": false
  }
 },
 "nbformat": 4,
 "nbformat_minor": 4
}
